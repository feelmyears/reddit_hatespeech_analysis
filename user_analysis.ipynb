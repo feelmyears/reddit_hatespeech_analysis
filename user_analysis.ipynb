{
 "cells": [
  {
   "cell_type": "code",
   "execution_count": 1,
   "metadata": {
    "ExecuteTime": {
     "end_time": "2018-06-09T19:35:25.481252Z",
     "start_time": "2018-06-09T19:35:25.389320Z"
    },
    "collapsed": true
   },
   "outputs": [],
   "source": [
    "import os\n",
    "import json\n",
    "import csv\n",
    "import re\n",
    "from collections import Counter\n",
    "\n",
    "NONE_LABEL = 'None'\n",
    "\n",
    "def ensure_exists(path):\n",
    "    directory = os.path.dirname(path)\n",
    "    if not os.path.exists(directory):\n",
    "        os.makedirs(directory)\n",
    "        \n",
    "\n",
    "def compress_data(\n",
    "        multi_label_data_path, \n",
    "        re_labels_path, \n",
    "        output_path,\n",
    "        none_label=NONE_LABEL\n",
    "    ):\n",
    "    label_regexes = []\n",
    "    with open(re_labels_path, 'r') as f:\n",
    "        reader = csv.reader(f)\n",
    "        next(reader)\n",
    "        for row in reader:\n",
    "            ngram, _, label, group = row\n",
    "            regex_string = '\\\\s+'.join(ngram.strip().split(' '))\n",
    "            regex = re.compile(regex_string, re.IGNORECASE)\n",
    "            label_regexes.append((group, regex))\n",
    "\n",
    "    all_labels = list(set([l[0] for l in label_regexes]))\n",
    "    all_labels.append(none_label)\n",
    "    labels_path = os.path.join(output_path, 'labels.txt')\n",
    "    ensure_exists(labels_path)\n",
    "    with open(labels_path, 'w') as f:\n",
    "        for l in all_labels:\n",
    "            f.write(f'{l}\\n')\n",
    "    \n",
    "    users = Counter()\n",
    "    subreddits = Counter()\n",
    "    classes = Counter()\n",
    "    \n",
    "    comments = []\n",
    "    labels = []\n",
    "    label_index = {l:all_labels.index(l) for l in all_labels}\n",
    "\n",
    "    with open(multi_label_data_path, 'r') as i, open(os.path.join(output_path, 'comments.csv'), 'w') as o:\n",
    "        writer = csv.writer(o)\n",
    "        \n",
    "        for ct, line in enumerate(i):\n",
    "            if (ct % 10000) == 0:\n",
    "                print(f'[Multilabel] Processing comment {ct:,}...')\n",
    "\n",
    "            data = json.loads(line)\n",
    "            comment = data['body']\n",
    "            user = data['author']\n",
    "            subreddit = data['subreddit']\n",
    "            _id = data['id']\n",
    "            label, _ = find_label(comment, label_regexes)                \n",
    "            if label is None:\n",
    "                label = none_label\n",
    "            \n",
    "            users[user] += 1\n",
    "            subreddits[subreddit] += 1\n",
    "            classes[label] += 1\n",
    "            \n",
    "            writer.writerow([subreddit, user, label, _id, comment])\n",
    "\n",
    "        print(f'[Multilabel] Finished reading and labeling {len(labels)} datapoints')\n",
    "    \n",
    "\n",
    "    def write_data(counter, file_name):\n",
    "        print(f'Writing {file_name}')\n",
    "        with open(os.path.join(output_path, f'{file_name}.csv'), 'w') as f:\n",
    "            writer = csv.writer(f)\n",
    "            for k,v in counter.items():\n",
    "                writer.writerow([k,v])\n",
    "    \n",
    "    write_data(users, 'users')\n",
    "    write_data(subreddits, 'subreddits')\n",
    "    write_data(classes, 'classes')\n",
    "    \n",
    "    print(users.most_common(10))\n",
    "    print(subreddits.most_common(10))\n",
    "    print(classes.most_common())\n",
    "    \n",
    "        \n",
    "def find_label(comment, label_regexes):    \n",
    "    c = Counter()\n",
    "    for label, regex in label_regexes:\n",
    "        if regex.search(comment):\n",
    "            c[label] += 1\n",
    "\n",
    "    labels = c.most_common(1)\n",
    "    if len(labels) == 0:\n",
    "        return None, comment\n",
    "    else:\n",
    "        return labels[0][0], comment\n",
    "\n",
    "# compress_data(\n",
    "#     multi_label_data_path = 'data/hate_comments.json', \n",
    "#     re_labels_path = 'data/refined_ngram_dict_labeled.csv', \n",
    "#     output_path = 'data/user_analysis', \n",
    "#     )"
   ]
  },
  {
   "cell_type": "code",
   "execution_count": 2,
   "metadata": {
    "ExecuteTime": {
     "end_time": "2018-06-09T19:35:27.579131Z",
     "start_time": "2018-06-09T19:35:26.583248Z"
    }
   },
   "outputs": [
    {
     "name": "stdout",
     "output_type": "stream",
     "text": [
      "Reading users\n",
      "Reading subreddits\n"
     ]
    }
   ],
   "source": [
    "def read_counter(file_name, output_path = 'data/user_analysis'):\n",
    "    print(f'Reading {file_name}')\n",
    "    c = Counter()\n",
    "    with open(os.path.join(output_path, f'{file_name}.csv'), 'r') as f:\n",
    "        reader = csv.reader(f)\n",
    "        for k,v in reader:\n",
    "            c[k] = int(v)\n",
    "    \n",
    "    return c\n",
    "\n",
    "user_counts = read_counter('users')\n",
    "subreddit_counts = read_counter('subreddits')\n",
    "len(user_counts.values())\n",
    "user_count_numbers = list(user_counts.values())"
   ]
  },
  {
   "cell_type": "code",
   "execution_count": 12,
   "metadata": {
    "ExecuteTime": {
     "end_time": "2018-06-09T19:38:08.366793Z",
     "start_time": "2018-06-09T19:37:46.717753Z"
    }
   },
   "outputs": [
    {
     "data": {
      "image/png": "[encoded data removed]",
      "text/plain": [
       "<matplotlib.figure.Figure at 0x7fb7ea1d6940>"
      ]
     },
     "metadata": {},
     "output_type": "display_data"
    }
   ],
   "source": [
    "import matplotlib.pyplot as plt\n",
    "from pylab import rcParams\n",
    "\n",
    "d = user_count_numbers\n",
    "n, bins, patches = plt.hist(d, 10000, alpha=0.75)\n",
    "plt.yscale('log')\n",
    "plt.xscale('log')\n",
    "plt.show()\n",
    "    "
   ]
  },
  {
   "cell_type": "code",
   "execution_count": 17,
   "metadata": {
    "ExecuteTime": {
     "end_time": "2018-06-09T19:41:38.004280Z",
     "start_time": "2018-06-09T19:41:17.820936Z"
    }
   },
   "outputs": [
    {
     "data": {
      "image/png": "[encoded data removed]",
      "text/plain": [
       "<matplotlib.figure.Figure at 0x7fb7e56d0518>"
      ]
     },
     "metadata": {},
     "output_type": "display_data"
    }
   ],
   "source": [
    "d = list(subreddit_counts.values())\n",
    "n, bins, patches = plt.hist(d, 10000, alpha=0.75)\n",
    "plt.yscale('log')\n",
    "plt.xscale('log')\n",
    "plt.show()\n",
    "    "
   ]
  },
  {
   "cell_type": "code",
   "execution_count": 19,
   "metadata": {
    "ExecuteTime": {
     "end_time": "2018-06-09T19:44:09.308325Z",
     "start_time": "2018-06-09T19:44:09.304338Z"
    }
   },
   "outputs": [
    {
     "data": {
      "text/plain": [
       "1104922"
      ]
     },
     "execution_count": 19,
     "metadata": {},
     "output_type": "execute_result"
    }
   ],
   "source": [
    "len(user_counts)"
   ]
  },
  {
   "cell_type": "code",
   "execution_count": 3,
   "metadata": {
    "ExecuteTime": {
     "end_time": "2018-06-09T19:27:24.692281Z",
     "start_time": "2018-06-09T19:27:24.573352Z"
    },
    "collapsed": true
   },
   "outputs": [],
   "source": [
    "top_users = [u[0] for u in user_counts.most_common(1200)]\n",
    "top_users = [tu for tu in top_users if '[deleted]' not in tu]\n",
    "top_users = [tu for tu in top_users if 'mod' not in tu.lower()]\n",
    "top_users = [tu for tu in top_users if 'bot' not in tu.lower()][:1000]\n",
    "\n",
    "import random\n",
    "sample = random.sample(top_users, 100)"
   ]
  },
  {
   "cell_type": "code",
   "execution_count": 4,
   "metadata": {
    "ExecuteTime": {
     "end_time": "2018-06-09T19:27:27.288470Z",
     "start_time": "2018-06-09T19:27:27.283698Z"
    }
   },
   "outputs": [
    {
     "name": "stdout",
     "output_type": "stream",
     "text": [
      "['KRosen333', 'PisslamicState', 'LittleBigKid2000', 'HighAngleAlpha0331', 'Aerik', 'RaoulDuke96', 'tom637', 'JasonGD1982', 'throwawawyy2', 'acorsicanpimp', 'SoCalMAGABRO', 'gtVel', 'zenicaone', '_Keemstar_', 'jihad_dildo', 'Bigdickedelf', 'stonepimpletilists', 'zdaytonaroadster', 'GGALLIN1776', 'sempire', 'TriangleDimes', 'Capatown', 'ShitArchonXPR', 'thereisnosuchthing', 'JumbledFun', 'The_Zett', 'WeirdEraCont', 'dakkar1', 'JiggabooShrimp', 'fmlom', 'mach-2', 'DrWoodcock', 'RabidRaccoon', 'datsrhesus', 'thrownaway_MGTOW', 'Electromeatloaf', 'Offensive_Brute', 'KennethFresno', 'freedombonerz', 'HatredsBlazingGun', 'IllimitableMan', 'FaggotBannedKeith', 'Shitty_Rage_Comic', 'hardcorebrowser', 'serialflamingo', 'GiefDownvotesPlox', 'throwaway-o', 'x86_64Ubuntu', 'ItsATedAndRandParty', 'Dudesan', 'thelordofcheese', 'HydrogenAndREDDIT', 'zahlman', 'samsterlicious', 'FhearSliabhNeil', 'maynardsabeast', 'naterc77', 'TipTipTopKek-NE', 'SeanCoonery007', 'Bannedfromfun', 'dolgar', 'Fidena', 'rural_npc', 'dadroog', '8_billion_eaters', 'Traxe55', 'Dropperneck', 'libsarefaggots', 'emocol', 'FattiesArentPeople', 'CallsUAFuckingNigger', 'imnotagayboy', 'chickenfan1', 'KusoBokeTemeYaro', 'Jewish_NeoCon', 'Megaross', 'SlappyJiggler', 'periphery72271', 'Truan', 'ShameBoner', 'Lysis10', 'stinkskc', 'OpiesBreasts', 'Draestyn', 'Juz16', 'Kellerbier', 'Osamathefaggot', 'Mr_Cellaneous', 'scatmango', 'DonGamerGuy', 'DirtyEntryPlug', 'arnie45666', 'Maddoktor2', 'HandofBane', 'rahtin', 'redditcensoredme', 'no1113', 'Iggins01', 'over9000bubuns', 'UmbrellaResearchCorp']\n"
     ]
    }
   ],
   "source": [
    "print(sample)"
   ]
  },
  {
   "cell_type": "code",
   "execution_count": 6,
   "metadata": {
    "ExecuteTime": {
     "end_time": "2018-06-09T19:27:35.787129Z",
     "start_time": "2018-06-09T19:27:35.780994Z"
    },
    "scrolled": true
   },
   "outputs": [
    {
     "name": "stdout",
     "output_type": "stream",
     "text": [
      "SELECT * FROM `fh-bigquery.reddit_comments.20*` WHERE\n",
      "\tUPPER(author) = \"KROSEN333\" OR\n",
      "\tUPPER(author) = \"PISSLAMICSTATE\" OR\n",
      "\tUPPER(author) = \"LITTLEBIGKID2000\" OR\n",
      "\tUPPER(author) = \"HIGHANGLEALPHA0331\" OR\n",
      "\tUPPER(author) = \"AERIK\" OR\n",
      "\tUPPER(author) = \"RAOULDUKE96\" OR\n",
      "\tUPPER(author) = \"TOM637\" OR\n",
      "\tUPPER(author) = \"JASONGD1982\" OR\n",
      "\tUPPER(author) = \"THROWAWAWYY2\" OR\n",
      "\tUPPER(author) = \"ACORSICANPIMP\" OR\n",
      "\tUPPER(author) = \"SOCALMAGABRO\" OR\n",
      "\tUPPER(author) = \"GTVEL\" OR\n",
      "\tUPPER(author) = \"ZENICAONE\" OR\n",
      "\tUPPER(author) = \"_KEEMSTAR_\" OR\n",
      "\tUPPER(author) = \"JIHAD_DILDO\" OR\n",
      "\tUPPER(author) = \"BIGDICKEDELF\" OR\n",
      "\tUPPER(author) = \"STONEPIMPLETILISTS\" OR\n",
      "\tUPPER(author) = \"ZDAYTONAROADSTER\" OR\n",
      "\tUPPER(author) = \"GGALLIN1776\" OR\n",
      "\tUPPER(author) = \"SEMPIRE\" OR\n",
      "\tUPPER(author) = \"TRIANGLEDIMES\" OR\n",
      "\tUPPER(author) = \"CAPATOWN\" OR\n",
      "\tUPPER(author) = \"SHITARCHONXPR\" OR\n",
      "\tUPPER(author) = \"THEREISNOSUCHTHING\" OR\n",
      "\tUPPER(author) = \"JUMBLEDFUN\" OR\n",
      "\tUPPER(author) = \"THE_ZETT\" OR\n",
      "\tUPPER(author) = \"WEIRDERACONT\" OR\n",
      "\tUPPER(author) = \"DAKKAR1\" OR\n",
      "\tUPPER(author) = \"JIGGABOOSHRIMP\" OR\n",
      "\tUPPER(author) = \"FMLOM\" OR\n",
      "\tUPPER(author) = \"MACH-2\" OR\n",
      "\tUPPER(author) = \"DRWOODCOCK\" OR\n",
      "\tUPPER(author) = \"RABIDRACCOON\" OR\n",
      "\tUPPER(author) = \"DATSRHESUS\" OR\n",
      "\tUPPER(author) = \"THROWNAWAY_MGTOW\" OR\n",
      "\tUPPER(author) = \"ELECTROMEATLOAF\" OR\n",
      "\tUPPER(author) = \"OFFENSIVE_BRUTE\" OR\n",
      "\tUPPER(author) = \"KENNETHFRESNO\" OR\n",
      "\tUPPER(author) = \"FREEDOMBONERZ\" OR\n",
      "\tUPPER(author) = \"HATREDSBLAZINGGUN\" OR\n",
      "\tUPPER(author) = \"ILLIMITABLEMAN\" OR\n",
      "\tUPPER(author) = \"FAGGOTBANNEDKEITH\" OR\n",
      "\tUPPER(author) = \"SHITTY_RAGE_COMIC\" OR\n",
      "\tUPPER(author) = \"HARDCOREBROWSER\" OR\n",
      "\tUPPER(author) = \"SERIALFLAMINGO\" OR\n",
      "\tUPPER(author) = \"GIEFDOWNVOTESPLOX\" OR\n",
      "\tUPPER(author) = \"THROWAWAY-O\" OR\n",
      "\tUPPER(author) = \"X86_64UBUNTU\" OR\n",
      "\tUPPER(author) = \"ITSATEDANDRANDPARTY\" OR\n",
      "\tUPPER(author) = \"DUDESAN\" OR\n",
      "\tUPPER(author) = \"THELORDOFCHEESE\" OR\n",
      "\tUPPER(author) = \"HYDROGENANDREDDIT\" OR\n",
      "\tUPPER(author) = \"ZAHLMAN\" OR\n",
      "\tUPPER(author) = \"SAMSTERLICIOUS\" OR\n",
      "\tUPPER(author) = \"FHEARSLIABHNEIL\" OR\n",
      "\tUPPER(author) = \"MAYNARDSABEAST\" OR\n",
      "\tUPPER(author) = \"NATERC77\" OR\n",
      "\tUPPER(author) = \"TIPTIPTOPKEK-NE\" OR\n",
      "\tUPPER(author) = \"SEANCOONERY007\" OR\n",
      "\tUPPER(author) = \"BANNEDFROMFUN\" OR\n",
      "\tUPPER(author) = \"DOLGAR\" OR\n",
      "\tUPPER(author) = \"FIDENA\" OR\n",
      "\tUPPER(author) = \"RURAL_NPC\" OR\n",
      "\tUPPER(author) = \"DADROOG\" OR\n",
      "\tUPPER(author) = \"8_BILLION_EATERS\" OR\n",
      "\tUPPER(author) = \"TRAXE55\" OR\n",
      "\tUPPER(author) = \"DROPPERNECK\" OR\n",
      "\tUPPER(author) = \"LIBSAREFAGGOTS\" OR\n",
      "\tUPPER(author) = \"EMOCOL\" OR\n",
      "\tUPPER(author) = \"FATTIESARENTPEOPLE\" OR\n",
      "\tUPPER(author) = \"CALLSUAFUCKINGNIGGER\" OR\n",
      "\tUPPER(author) = \"IMNOTAGAYBOY\" OR\n",
      "\tUPPER(author) = \"CHICKENFAN1\" OR\n",
      "\tUPPER(author) = \"KUSOBOKETEMEYARO\" OR\n",
      "\tUPPER(author) = \"JEWISH_NEOCON\" OR\n",
      "\tUPPER(author) = \"MEGAROSS\" OR\n",
      "\tUPPER(author) = \"SLAPPYJIGGLER\" OR\n",
      "\tUPPER(author) = \"PERIPHERY72271\" OR\n",
      "\tUPPER(author) = \"TRUAN\" OR\n",
      "\tUPPER(author) = \"SHAMEBONER\" OR\n",
      "\tUPPER(author) = \"LYSIS10\" OR\n",
      "\tUPPER(author) = \"STINKSKC\" OR\n",
      "\tUPPER(author) = \"OPIESBREASTS\" OR\n",
      "\tUPPER(author) = \"DRAESTYN\" OR\n",
      "\tUPPER(author) = \"JUZ16\" OR\n",
      "\tUPPER(author) = \"KELLERBIER\" OR\n",
      "\tUPPER(author) = \"OSAMATHEFAGGOT\" OR\n",
      "\tUPPER(author) = \"MR_CELLANEOUS\" OR\n",
      "\tUPPER(author) = \"SCATMANGO\" OR\n",
      "\tUPPER(author) = \"DONGAMERGUY\" OR\n",
      "\tUPPER(author) = \"DIRTYENTRYPLUG\" OR\n",
      "\tUPPER(author) = \"ARNIE45666\" OR\n",
      "\tUPPER(author) = \"MADDOKTOR2\" OR\n",
      "\tUPPER(author) = \"HANDOFBANE\" OR\n",
      "\tUPPER(author) = \"RAHTIN\" OR\n",
      "\tUPPER(author) = \"REDDITCENSOREDME\" OR\n",
      "\tUPPER(author) = \"NO1113\" OR\n",
      "\tUPPER(author) = \"IGGINS01\" OR\n",
      "\tUPPER(author) = \"OVER9000BUBUNS\" OR\n",
      "\tUPPER(author) = \"UMBRELLARESEARCHCORP\" \n"
     ]
    }
   ],
   "source": [
    "query = 'SELECT * FROM `fh-bigquery.reddit_comments.20*` WHERE\\n'\n",
    "for s in sample:\n",
    "    query += f'\\tUPPER(author) = \"{s.upper()}\" OR\\n'\n",
    "\n",
    "query = query[:-3]\n",
    "print(query)\n",
    "    "
   ]
  },
  {
   "cell_type": "code",
   "execution_count": 7,
   "metadata": {
    "ExecuteTime": {
     "end_time": "2018-06-09T19:27:38.597647Z",
     "start_time": "2018-06-09T19:27:38.589748Z"
    }
   },
   "outputs": [
    {
     "name": "stdout",
     "output_type": "stream",
     "text": [
      "Reading classes\n"
     ]
    }
   ],
   "source": [
    "label_counts = read_counter('classes')\n"
   ]
  },
  {
   "cell_type": "code",
   "execution_count": 24,
   "metadata": {
    "ExecuteTime": {
     "end_time": "2018-06-09T19:50:18.623527Z",
     "start_time": "2018-06-09T19:50:18.613281Z"
    }
   },
   "outputs": [
    {
     "name": "stdout",
     "output_type": "stream",
     "text": [
      "SELECT * FROM `fh-bigquery.reddit_comments.20*` WHERE\n",
      "\tsubreddit = \"AskReddit\" OR\n",
      "\tsubreddit = \"4chan\" OR\n",
      "\tsubreddit = \"funny\" OR\n",
      "\tsubreddit = \"pics\" OR\n",
      "\tsubreddit = \"politics\" OR\n",
      "\tsubreddit = \"videos\" OR\n",
      "\tsubreddit = \"WTF\" OR\n",
      "\tsubreddit = \"todayilearned\" OR\n",
      "\tsubreddit = \"opieandanthony\" OR\n",
      "\tsubreddit = \"The_Donald\" OR\n",
      "\tsubreddit = \"CoonTown\" OR\n",
      "\tsubreddit = \"CringeAnarchy\" OR\n",
      "\tsubreddit = \"ImGoingToHellForThis\" OR\n",
      "\tsubreddit = \"worldnews\" OR\n",
      "\tsubreddit = \"AdviceAnimals\" OR\n",
      "\tsubreddit = \"news\" OR\n",
      "\tsubreddit = \"4chan4trump\" OR\n",
      "\tsubreddit = \"atheism\" OR\n",
      "\tsubreddit = \"gaming\" OR\n",
      "\tsubreddit = \"TumblrInAction\" OR\n",
      "\tsubreddit = \"DotA2\" OR\n",
      "\tsubreddit = \"wallstreetbets\" OR\n",
      "\tsubreddit = \"reddit.com\" OR\n",
      "\tsubreddit = \"KotakuInAction\" OR\n",
      "\tsubreddit = \"SubredditDrama\" OR\n",
      "\tsubreddit = \"IAmA\" OR\n",
      "\tsubreddit = \"milliondollarextreme\" OR\n",
      "\tsubreddit = \"Ice_Poseidon\" OR\n",
      "\tsubreddit = \"starcraft\" OR\n",
      "\tsubreddit = \"changemyview\" OR\n",
      "\tsubreddit = \"leagueoflegends\" OR\n",
      "\tsubreddit = \"dankmemes\" OR\n",
      "\tsubreddit = \"Drama\" OR\n",
      "\tsubreddit = \"Kappa\" OR\n",
      "\tsubreddit = \"TheRedPill\" OR\n",
      "\tsubreddit = \"GreatApes\" OR\n",
      "\tsubreddit = \"MensRights\" OR\n",
      "\tsubreddit = \"circlejerk\" OR\n",
      "\tsubreddit = \"movies\" OR\n",
      "\tsubreddit = \"nba\" OR\n",
      "\tsubreddit = \"fffffffuuuuuuuuuuuu\" OR\n",
      "\tsubreddit = \"SquaredCircle\" OR\n",
      "\tsubreddit = \"WritingPrompts\" OR\n",
      "\tsubreddit = \"conspiracy\" OR\n",
      "\tsubreddit = \"hiphopheads\" OR\n",
      "\tsubreddit = \"trees\" OR\n",
      "\tsubreddit = \"soccer\" OR\n",
      "\tsubreddit = \"Libertarian\" OR\n",
      "\tsubreddit = \"Braveryjerk\" OR\n",
      "\tsubreddit = \"RoastMe\" OR\n",
      "\tsubreddit = \"asoiaf\" OR\n",
      "\tsubreddit = \"nfl\" OR\n",
      "\tsubreddit = \"teenagers\" OR\n",
      "\tsubreddit = \"explainlikeimfive\" OR\n",
      "\tsubreddit = \"gifs\" OR\n",
      "\tsubreddit = \"guns\" OR\n",
      "\tsubreddit = \"uncensorednews\" OR\n",
      "\tsubreddit = \"askgaybros\" OR\n",
      "\tsubreddit = \"TwoXChromosomes\" OR\n",
      "\tsubreddit = \"lgbt\" OR\n",
      "\tsubreddit = \"AskMen\" OR\n",
      "\tsubreddit = \"unitedkingdom\" OR\n",
      "\tsubreddit = \"relationships\" OR\n",
      "\tsubreddit = \"european\" OR\n",
      "\tsubreddit = \"Music\" OR\n",
      "\tsubreddit = \"MGTOW\" OR\n",
      "\tsubreddit = \"bakchodi\" OR\n",
      "\tsubreddit = \"BlackPeopleTwitter\" OR\n",
      "\tsubreddit = \"technology\" OR\n",
      "\tsubreddit = \"canada\" OR\n",
      "\tsubreddit = \"australia\" OR\n",
      "\tsubreddit = \"Anarcho_Capitalism\" OR\n",
      "\tsubreddit = \"CFB\" OR\n",
      "\tsubreddit = \"LivestreamFail\" OR\n",
      "\tsubreddit = \"Overwatch\" OR\n",
      "\tsubreddit = \"MMA\" OR\n",
      "\tsubreddit = \"hockey\" OR\n",
      "\tsubreddit = \"mildlyinteresting\" OR\n",
      "\tsubreddit = \"PublicFreakout\" OR\n",
      "\tsubreddit = \"PurplePillDebate\" OR\n",
      "\tsubreddit = \"Jokes\" OR\n",
      "\tsubreddit = \"europe\" OR\n",
      "\tsubreddit = \"gaybros\" OR\n",
      "\tsubreddit = \"pcmasterrace\" OR\n",
      "\tsubreddit = \"ukpolitics\" OR\n",
      "\tsubreddit = \"trashy\" OR\n",
      "\tsubreddit = \"anime\" OR\n",
      "\tsubreddit = \"JusticePorn\" OR\n",
      "\tsubreddit = \"gameofthrones\" OR\n",
      "\tsubreddit = \"WhiteRights\" OR\n",
      "\tsubreddit = \"Christianity\" OR\n",
      "\tsubreddit = \"rupaulsdragrace\" OR\n",
      "\tsubreddit = \"TrueReddit\" OR\n",
      "\tsubreddit = \"india\" OR\n",
      "\tsubreddit = \"hapas\" OR\n",
      "\tsubreddit = \"ShitRedditSays\" OR\n",
      "\tsubreddit = \"unpopularopinion\" OR\n",
      "\tsubreddit = \"aww\" OR\n",
      "\tsubreddit = \"ainbow\" OR\n",
      "\tsubreddit = \"2007scape\" \n"
     ]
    }
   ],
   "source": [
    "subreddits = [sc[0] for sc in subreddit_counts.most_common(100)]\n",
    "query = 'SELECT * FROM `fh-bigquery.reddit_comments.20*` WHERE\\n'\n",
    "for s in subreddits:\n",
    "    query += f'\\tsubreddit = \"{s}\" OR\\n'\n",
    "\n",
    "query = query[:-3]\n",
    "print(query)\n",
    "    "
   ]
  },
  {
   "cell_type": "code",
   "execution_count": null,
   "metadata": {
    "collapsed": true
   },
   "outputs": [],
   "source": []
  },
  {
   "cell_type": "code",
   "execution_count": 77,
   "metadata": {
    "ExecuteTime": {
     "end_time": "2018-06-13T16:52:16.240530Z",
     "start_time": "2018-06-13T16:51:58.410925Z"
    },
    "collapsed": true
   },
   "outputs": [],
   "source": [
    "labeled_user_comments_path = 'data/user_analysis/100_users_comments_labeled.json'\n",
    "# labeled_user_comments_path = 'labeled_100_subreddit_comments.json'\n",
    "counters = {}\n",
    "with open(labeled_user_comments_path, 'r') as f:\n",
    "    for line in f:\n",
    "        data = json.loads(line)\n",
    "        user = data['author']\n",
    "        label = data['label']\n",
    "        counters.setdefault(user, Counter())\n",
    "        counters[user][label] += 1"
   ]
  },
  {
   "cell_type": "code",
   "execution_count": 78,
   "metadata": {
    "ExecuteTime": {
     "end_time": "2018-06-13T16:52:17.914508Z",
     "start_time": "2018-06-13T16:52:17.909127Z"
    },
    "collapsed": true
   },
   "outputs": [],
   "source": [
    "ratios = {}\n",
    "distributions = {}\n",
    "# labels = ['None', 'Rage', 'Racism', 'Homophobia']\n",
    "for u, c in counters.items():\n",
    "    total_comments = float(sum(c.values()))\n",
    "    r = {}\n",
    "    for k, v in c.items():\n",
    "        distributions.setdefault(k, [])\n",
    "        r[k] = v/total_comments\n",
    "        distributions[k].append(v/total_comments)\n",
    "        \n",
    "    ratios[u] = r\n",
    "\n"
   ]
  },
  {
   "cell_type": "code",
   "execution_count": 82,
   "metadata": {
    "ExecuteTime": {
     "end_time": "2018-06-13T16:56:59.578683Z",
     "start_time": "2018-06-13T16:56:57.795333Z"
    }
   },
   "outputs": [
    {
     "name": "stdout",
     "output_type": "stream",
     "text": [
      "0\n",
      "1\n",
      "2\n",
      "3\n"
     ]
    },
    {
     "data": {
      "image/png": "[encoded data removed]",
      "text/plain": [
       "<matplotlib.figure.Figure at 0x7fb7ea1f80b8>"
      ]
     },
     "metadata": {},
     "output_type": "display_data"
    }
   ],
   "source": [
    "import matplotlib.pyplot as plt\n",
    "from pylab import rcParams\n",
    "import matplotlib.mlab as mlab\n",
    "from scipy.stats import norm, gamma, poisson\n",
    "rcParams['font.size'] = 10\n",
    "rcParams['figure.figsize'] = 7,6\n",
    "colors = ('blue', 'red', 'green', 'purple')\n",
    "# fig, axes = plt.subplots(ncols=2, nrows=2)\n",
    "for i, (k, d) in enumerate(distributions.items()):\n",
    "    print(i)\n",
    "    plt.subplot(4, 1, i+1)\n",
    "    if i == 0:\n",
    "        plt.title('User Comment Content Breakdown')\n",
    "    n, bins, patches = plt.hist(d, 100, range=(0,1), label=k, alpha=0.75, color=colors[i])\n",
    "    ag,bg,cg = gamma.fit(d)\n",
    "    lnspc = np.linspace(0,1, 100)\n",
    "    pdf_gamma = gamma.pdf(lnspc, ag, bg,cg)  \n",
    "    axes = plt.gca()\n",
    "    plt.yscale('log')\n",
    "    axes.set_ylim([0, 60])\n",
    "#     y = mlab.normpdf( bins, mu, sigma)\n",
    "#     plt.plot(lnspc, pdf_gamma, 'r--', linewidth=1)\n",
    "    plt.legend()\n",
    "\n",
    "plt.tight_layout()\n",
    "plt.xlabel('Proportion of Comments')\n",
    "plt.show()"
   ]
  },
  {
   "cell_type": "code",
   "execution_count": null,
   "metadata": {
    "collapsed": true
   },
   "outputs": [],
   "source": [
    "N = len(ratios)\n",
    "ind = np.arange(N)\n"
   ]
  },
  {
   "cell_type": "code",
   "execution_count": 44,
   "metadata": {
    "ExecuteTime": {
     "end_time": "2018-06-13T00:17:06.288405Z",
     "start_time": "2018-06-13T00:17:06.186085Z"
    }
   },
   "outputs": [
    {
     "data": {
      "image/png": "[encoded data removed]",
      "text/plain": [
       "<matplotlib.figure.Figure at 0x7fb7ec3c86a0>"
      ]
     },
     "metadata": {},
     "output_type": "display_data"
    }
   ],
   "source": [
    "from pylab import rcParams\n",
    "rcParams['figure.figsize'] = 6,3\n",
    "rcParams['font.size'] = 12\n",
    "\n",
    "l = Counter()\n",
    "g = Counter()\n",
    "with open('data/refined_ngram_dict_labeled.csv', 'r') as f:\n",
    "    reader = csv.reader(f)\n",
    "    next(reader)\n",
    "    for row in reader:\n",
    "        _, _, label, group = row\n",
    "        l[label] += 1\n",
    "        g[group] += 1\n",
    "\n",
    "fig, ax = plt.subplots()\n",
    "groups = list(g.keys())\n",
    "bar_width = 0.5\n",
    "counts = [g[i] for i in groups]\n",
    "ax.bar(np.arange(len(groups)), counts, bar_width, align='center')\n",
    "ax.set_xticks(np.arange(len(groups)))\n",
    "ax.set_xticklabels(groups)\n",
    "plt.xticks(rotation=0)\n",
    "plt.title('Target Category nGram Counts')\n",
    "plt.show()\n"
   ]
  },
  {
   "cell_type": "code",
   "execution_count": 45,
   "metadata": {
    "ExecuteTime": {
     "end_time": "2018-06-13T00:17:11.437096Z",
     "start_time": "2018-06-13T00:17:11.298276Z"
    }
   },
   "outputs": [
    {
     "data": {
      "image/png": "[encoded data removed]",
      "text/plain": [
       "<matplotlib.figure.Figure at 0x7fb80613e630>"
      ]
     },
     "metadata": {},
     "output_type": "display_data"
    }
   ],
   "source": [
    "# from pylab import rcParams\n",
    "# rcParams['figure.figsize'] = 10,5\n",
    "# rcParams['font.size'] = 10\n",
    "\n",
    "l = Counter()\n",
    "g = Counter()\n",
    "with open('data/refined_ngram_dict_labeled.csv', 'r') as f:\n",
    "    reader = csv.reader(f)\n",
    "    next(reader)\n",
    "    for row in reader:\n",
    "        _, _, label, group = row\n",
    "        l[label] += 1\n",
    "        g[group] += 1\n",
    "\n",
    "fig, ax = plt.subplots()\n",
    "groups = list(i.strip() for i in l.keys())\n",
    "bar_width = 0.9\n",
    "counts = [l[i] for i in groups]\n",
    "ax.bar(np.arange(len(groups)), counts, bar_width, align='center')\n",
    "ax.set_xticks(np.arange(len(groups)))\n",
    "ax.set_xticklabels(groups)\n",
    "plt.title('Target Group nGram Counts')\n",
    "plt.xticks(rotation=45)\n",
    "plt.tight_layout()\n",
    "plt.show()"
   ]
  },
  {
   "cell_type": "code",
   "execution_count": null,
   "metadata": {
    "collapsed": true
   },
   "outputs": [],
   "source": []
  }
 ],
 "metadata": {
  "kernelspec": {
   "display_name": "Python 3",
   "language": "python",
   "name": "python3"
  },
  "language_info": {
   "codemirror_mode": {
    "name": "ipython",
    "version": 3
   },
   "file_extension": ".py",
   "mimetype": "text/x-python",
   "name": "python",
   "nbconvert_exporter": "python",
   "pygments_lexer": "ipython3",
   "version": "3.6.2"
  },
  "latex_envs": {
   "LaTeX_envs_menu_present": true,
   "autoclose": false,
   "autocomplete": true,
   "bibliofile": "biblio.bib",
   "cite_by": "apalike",
   "current_citInitial": 1,
   "eqLabelWithNumbers": true,
   "eqNumInitial": 1,
   "hotkeys": {
    "equation": "Ctrl-E",
    "itemize": "Ctrl-I"
   },
   "labels_anchors": false,
   "latex_user_defs": false,
   "report_style_numbering": false,
   "user_envs_cfg": false
  },
  "varInspector": {
   "cols": {
    "lenName": 16,
    "lenType": 16,
    "lenVar": 40
   },
   "kernels_config": {
    "python": {
     "delete_cmd_postfix": "",
     "delete_cmd_prefix": "del ",
     "library": "var_list.py",
     "varRefreshCmd": "print(var_dic_list())"
    },
    "r": {
     "delete_cmd_postfix": ") ",
     "delete_cmd_prefix": "rm(",
     "library": "var_list.r",
     "varRefreshCmd": "cat(var_dic_list()) "
    }
   },
   "position": {
    "height": "418px",
    "left": "1070px",
    "right": "20px",
    "top": "120px",
    "width": "356px"
   },
   "types_to_exclude": [
    "module",
    "function",
    "builtin_function_or_method",
    "instance",
    "_Feature"
   ],
   "window_display": false
  }
 },
 "nbformat": 4,
 "nbformat_minor": 2
}
